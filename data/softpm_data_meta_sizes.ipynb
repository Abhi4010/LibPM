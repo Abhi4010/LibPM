{
 "metadata": {
  "name": "softpm_data_meta_sizes"
 }, 
 "nbformat": 2, 
 "worksheets": [
  {
   "cells": [
    {
     "cell_type": "code", 
     "collapsed": true, 
     "input": [
      "import math"
     ], 
     "language": "python", 
     "outputs": [], 
     "prompt_number": 1
    }, 
    {
     "cell_type": "code", 
     "collapsed": true, 
     "input": [
      "ptr=8", 
      "i=4", 
      "ls=2*ptr", 
      "tree=2*ptr", 
      "ptr_list_head = 5*ptr", 
      "ptr_root = ptr", 
      "pg=4096", 
      "pg_half = pg/2 + 1", 
      "bm=math.ceil(math.log(pg/8,2))", 
      "mb = 2**20", 
      "gb = 2**30", 
      "tb = 2**40", 
      "slab_entry=4*ptr + ls + tree + 2*i + bm"
     ], 
     "language": "python", 
     "outputs": [], 
     "prompt_number": 2
    }, 
    {
     "cell_type": "code", 
     "collapsed": false, 
     "input": [
      "dir = (pg - (2*tree + ls + i + ptr_list_head + ptr_root)) / (4*ptr)", 
      "print dir"
     ], 
     "language": "python", 
     "outputs": [
      {
       "output_type": "stream", 
       "stream": "stdout", 
       "text": [
        "124"
       ]
      }
     ], 
     "prompt_number": 3
    }, 
    {
     "cell_type": "code", 
     "collapsed": false, 
     "input": [
      "outer= (pg - i) / (4*ptr)", 
      "inner=(pg - i) / (4*ptr)", 
      "entries=pg  / slab_entry", 
      "print outer, inner, entries"
     ], 
     "language": "python", 
     "outputs": [
      {
       "output_type": "stream", 
       "stream": "stdout", 
       "text": [
        "127 127 50.5679012346"
       ]
      }
     ], 
     "prompt_number": 4
    }, 
    {
     "cell_type": "code", 
     "collapsed": false, 
     "input": [
      "", 
      "min_data = pg_half * dir * outer * inner * entries", 
      "max_data = pg* dir * outer * inner * entries ", 
      "max_meta = dir * outer * inner * entries", 
      "print \"max_data: %.2fgb min_data %.2fgb max_meta: %.2fmb (%f%% in worst case)\" % \\", 
      "(max_data/gb, min_data/gb, max_meta/mb, max_meta * 100 / min_data)"
     ], 
     "language": "python", 
     "outputs": [
      {
       "output_type": "stream", 
       "stream": "stdout", 
       "text": [
        "max_data: 385.80gb min_data 193.00gb max_meta: 96.45mb (0.048804% in worst case)"
       ]
      }
     ], 
     "prompt_number": 5
    }, 
    {
     "cell_type": "code", 
     "collapsed": true, 
     "input": [], 
     "language": "python", 
     "outputs": [], 
     "prompt_number": 5
    }
   ]
  }
 ]
}